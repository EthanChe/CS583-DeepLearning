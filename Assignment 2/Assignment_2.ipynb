{
  "cells": [
    {
      "cell_type": "markdown",
      "metadata": {
        "id": "2C-ChwRf5c_k"
      },
      "source": [
        "# Assignment 2: Build a CNN for image recognition.\n",
        "\n",
        "## Due Date:  March 29, 11:59PM\n",
        "\n",
        "### Name: Ethan Che\n",
        "\n",
        "I pledge my honor that I have abided by the Stevens Honor System.\n"
      ]
    },
    {
      "cell_type": "markdown",
      "metadata": {
        "id": "_ij5Wwjn5c_6"
      },
      "source": [
        "## Introduction:\n",
        "\n",
        "1. In this assignment, you will build Convolutional Neural Network to classify CIFAR-10 Images.\n",
        "2. You can directly load dataset from many deep learning packages.\n",
        "3. You can use any deep learning packages such as pytorch, keras or tensorflow for this assignment."
      ]
    },
    {
      "cell_type": "markdown",
      "metadata": {
        "id": "XvKG-qe-5dAB"
      },
      "source": [
        "## Requirements:\n",
        "\n",
        "1. You need to load cifar 10 data and split the entire training dataset into training and validation.\n",
        "2. You will implement a CNN model to classify cifar 10 images with provided structure.\n",
        "3. You need to plot the training and validation accuracy or loss obtained from above step.\n",
        "4. Then you can use tuned parameters to train using the entire training dataset.\n",
        "5. You should report the testing accuracy using the model with complete data.\n",
        "6. You may try to change the structure (e.g, add BN layer or dropout layer,...) and analyze your findings.\n",
        "\n",
        "## Google Colab\n",
        "\n",
        "- If you do not have GPU, the training of a CNN can be slow. Google Colab is a good option."
      ]
    },
    {
      "cell_type": "markdown",
      "metadata": {
        "id": "87Zhpe1_5dAE"
      },
      "source": [
        "## Batch Normalization (BN)"
      ]
    },
    {
      "cell_type": "markdown",
      "metadata": {
        "id": "iwljr4Y55dAF"
      },
      "source": [
        "### Background:"
      ]
    },
    {
      "cell_type": "markdown",
      "metadata": {
        "id": "pcpWFAjw5dAF"
      },
      "source": [
        "- Batch Normalization is a technique to speed up training and help make the model more stable.\n",
        "- In simple words, batch normalization is just another network layer that gets inserted between a hidden layer and the next hidden layer. Its job is to take the outputs from the first hidden layer and normalize them before passing them on as the input of the next hidden layer.\n",
        "\n",
        "- For more detailed information, you may refer to the original paper: https://arxiv.org/pdf/1502.03167.pdf."
      ]
    },
    {
      "cell_type": "markdown",
      "metadata": {
        "id": "at65rbVv5dAG"
      },
      "source": [
        "### BN Algorithm:"
      ]
    },
    {
      "cell_type": "markdown",
      "metadata": {
        "id": "MLQ5K8H65dAG"
      },
      "source": [
        "- Input: Values of $x$ over a mini-batch: $\\mathbf{B}$ = $\\{x_1,..., x_m\\};$\n",
        "- Output: $\\{y_i = BN_{\\gamma,\\beta}(x_i)\\}$, $\\gamma, \\beta$ are learnable parameters\n",
        "\n",
        "Normalization of the Input:\n",
        "$$\\mu_{\\mathbf{B}} = \\frac{1}{m}\\sum_{i=1}^m x_i$$\n",
        "$$\\sigma_{\\mathbf{B}}^2 = \\frac{1}{m}\\sum_{i=1}^m (x_i - \\mu_{\\mathbf{B}})^2$$\n",
        "$$\\hat{x_i} = \\frac{x_i - \\mu_{\\mathbf{B}}}{\\sqrt{\\sigma_{\\mathbf{B}}}^2 + \\epsilon}$$\n",
        "Re-scaling and Offsetting:\n",
        "$$y_i = \\gamma \\hat{x_i} + \\beta = BN_{\\gamma,\\beta}(x_i)$$\n"
      ]
    },
    {
      "cell_type": "markdown",
      "metadata": {
        "id": "17yhGz5V5dAL"
      },
      "source": [
        "### Advantages of BN:\n",
        "1. Improves gradient flow through the network.\n",
        "2. Allows use of saturating nonlinearities and higher learning rates.\n",
        "3. Makes weights easier to initialize.\n",
        "4. Act as a form of regularization and may reduce the need for dropout."
      ]
    },
    {
      "cell_type": "markdown",
      "metadata": {
        "id": "lsDrbizi5dAM"
      },
      "source": [
        "### Implementation:"
      ]
    },
    {
      "cell_type": "markdown",
      "metadata": {
        "id": "qjrBCeW55dAN"
      },
      "source": [
        "- The batch normalization layer has already been implemented in many packages. You may simply call the function to build the layer. For example: torch.nn.BatchNorm2d() using pytroch package, keras.layers.BatchNormalization() using keras package.\n",
        "- The location of BN layer: Please make sure ```BatchNormalization``` is between a ```Conv```/```Dense``` layer and an ```activation``` layer."
      ]
    },
    {
      "cell_type": "markdown",
      "metadata": {
        "id": "XuqKjkW_5dAN"
      },
      "source": [
        "## 1. Data preparation"
      ]
    },
    {
      "cell_type": "markdown",
      "metadata": {
        "id": "95n--0Vo5dAN"
      },
      "source": [
        "### 1.1. Load data\n"
      ]
    },
    {
      "cell_type": "code",
      "execution_count": 1,
      "metadata": {
        "colab": {
          "base_uri": "https://localhost:8080/"
        },
        "id": "e-d-dNKE5dAO",
        "outputId": "4f213798-c876-43b3-eac4-7917841edac4"
      },
      "outputs": [
        {
          "output_type": "stream",
          "name": "stdout",
          "text": [
            "shape of x_train: (50000, 32, 32, 3)\n",
            "shape of y_train: (50000, 1)\n",
            "shape of x_test: (10000, 32, 32, 3)\n",
            "shape of y_test: (10000, 1)\n",
            "number of classes: 10\n"
          ]
        }
      ],
      "source": [
        "# Load Cifar-10 Data\n",
        "# This is just an example, you may load dataset from other packages.\n",
        "import keras\n",
        "import numpy as np\n",
        "import tensorflow as tf\n",
        "\n",
        "### If you can not load keras dataset, un-comment these two lines.\n",
        "#import ssl\n",
        "#ssl._create_default_https_context = ssl._create_unverified_context\n",
        "\n",
        "(x_train, y_train), (x_test, y_test) = tf.keras.datasets.cifar10.load_data()\n",
        "\n",
        "print('shape of x_train: ' + str(x_train.shape))\n",
        "print('shape of y_train: ' + str(y_train.shape))\n",
        "print('shape of x_test: ' + str(x_test.shape))\n",
        "print('shape of y_test: ' + str(y_test.shape))\n",
        "print('number of classes: ' + str(np.max(y_train) - np.min(y_train) + 1))"
      ]
    },
    {
      "cell_type": "markdown",
      "metadata": {
        "id": "i3F_bRm85dAQ"
      },
      "source": [
        "### 1.2. One-hot encode the labels (5 points)\n",
        "\n",
        "In the input, a label is a scalar in $\\{0, 1, \\cdots , 9\\}$. One-hot encode transform such a scalar to a $10$-dim vector. E.g., a scalar ```y_train[j]=3``` is transformed to the vector ```y_train_vec[j]=[0, 0, 0, 1, 0, 0, 0, 0, 0, 0]```.\n",
        "\n",
        "1. Implement a function ```to_one_hot``` that transforms an $n\\times 1$ array to a $n\\times 10$ matrix.\n",
        "\n",
        "2. Apply the function to ```y_train``` and ```y_test```."
      ]
    },
    {
      "cell_type": "code",
      "execution_count": 2,
      "metadata": {
        "id": "Pm6loGcO5dAQ",
        "colab": {
          "base_uri": "https://localhost:8080/"
        },
        "outputId": "ac3a679e-3bb3-4b70-8e57-e3b618616f69"
      },
      "outputs": [
        {
          "output_type": "stream",
          "name": "stdout",
          "text": [
            "Shape of y_train_vec: (50000, 10)\n",
            "Shape of y_test_vec: (10000, 10)\n",
            "[6]\n",
            "[0, 0, 0, 0, 0, 0, 1, 0, 0, 0]\n"
          ]
        }
      ],
      "source": [
        "def to_one_hot(y, num_class=10):\n",
        "    hot = []\n",
        "    for x in y: #For every element in input array\n",
        "        temp = []\n",
        "        for i in range(10):\n",
        "            if (i == x[0]):\n",
        "                temp.append(1)\n",
        "            else:\n",
        "                temp.append(0)\n",
        "        hot.append(temp)\n",
        "    return hot\n",
        "\n",
        "y_train_vec = to_one_hot(y_train)\n",
        "y_test_vec = to_one_hot(y_test)\n",
        "\n",
        "print('Shape of y_train_vec: ' + str(np.shape(y_train_vec)))\n",
        "print('Shape of y_test_vec: ' + str(np.shape(y_test_vec)))\n",
        "\n",
        "print(y_train[0])\n",
        "print(y_train_vec[0])"
      ]
    },
    {
      "cell_type": "markdown",
      "metadata": {
        "id": "8sIFKdbT5dAR"
      },
      "source": [
        "#### Remark: the outputs should be\n",
        "* Shape of y_train_vec: (50000, 10)\n",
        "* Shape of y_test_vec: (10000, 10)\n",
        "* [6]\n",
        "* [0. 0. 0. 0. 0. 0. 1. 0. 0. 0.]"
      ]
    },
    {
      "cell_type": "markdown",
      "metadata": {
        "id": "ZLdcno2s5dAR"
      },
      "source": [
        "### 1.3. Randomly partition the training set to training and validation sets (5 points)\n",
        "\n",
        "Randomly partition the 50K training samples to 2 sets: \n",
        "* a training set containing 40K samples: x_tr, y_tr\n",
        "* a validation set containing 10K samples: x_val, y_val\n"
      ]
    },
    {
      "cell_type": "code",
      "execution_count": 3,
      "metadata": {
        "id": "KlE5VV_h5dAS",
        "colab": {
          "base_uri": "https://localhost:8080/"
        },
        "outputId": "3125cb57-8757-4227-df09-54740657cd8b"
      },
      "outputs": [
        {
          "output_type": "stream",
          "name": "stdout",
          "text": [
            "Shape of x_tr: (40000, 32, 32, 3)\n",
            "Shape of y_tr: (40000, 1)\n",
            "Shape of x_val: (10000, 32, 32, 3)\n",
            "Shape of y_val: (10000, 1)\n"
          ]
        }
      ],
      "source": [
        "from sklearn.model_selection import train_test_split\n",
        "\n",
        "x_tr, x_val, y_tr, y_val = train_test_split(x_train, y_train, test_size=0.20, random_state=18)\n",
        "\n",
        "print('Shape of x_tr: ' + str(x_tr.shape))\n",
        "print('Shape of y_tr: ' + str(y_tr.shape))\n",
        "print('Shape of x_val: ' + str(x_val.shape))\n",
        "print('Shape of y_val: ' + str(y_val.shape))\n",
        "\n",
        "y_tr_vec = to_one_hot(y_tr)\n",
        "y_val_vec = to_one_hot(y_val)"
      ]
    },
    {
      "cell_type": "markdown",
      "metadata": {
        "id": "xpigR6Eb5dAS"
      },
      "source": [
        "## 2. Build a CNN and tune its hyper-parameters (50 points)\n",
        "\n",
        "- Build a convolutional neural network model using the below structure:\n",
        "\n",
        "- It should have a structure of: Conv - ReLU - Max Pool - ConV - ReLU - Max Pool - Dense - ReLU - Dense - Softmax\n",
        "\n",
        "- In the graph 3@32x32 means the dimension of input image, 32@30x30 means it has 32 filters and the dimension now becomes 30x30 after the convolution.\n",
        "- All convolutional layers (Conv) should have stride = 1 and no padding.\n",
        "- Max Pooling has a pool size of 2 by 2.\n",
        "\n",
        "\n"
      ]
    },
    {
      "cell_type": "markdown",
      "metadata": {
        "id": "NSQqnaVa5dAT"
      },
      "source": [
        "<img src=\"network.PNG\"/>"
      ]
    },
    {
      "cell_type": "markdown",
      "metadata": {
        "id": "9NfsABQa5dAT"
      },
      "source": [
        "- You may use the validation data to tune the hyper-parameters (e.g., learning rate, and optimization algorithm)\n",
        "- Do NOT use test data for hyper-parameter tuning!!!\n",
        "- Try to achieve a validation accuracy as high as possible."
      ]
    },
    {
      "cell_type": "code",
      "execution_count": 4,
      "metadata": {
        "id": "YTlyiJ1s5dAU",
        "colab": {
          "base_uri": "https://localhost:8080/"
        },
        "outputId": "9a0e2c88-31f6-4d18-cf6f-727bed612250"
      },
      "outputs": [
        {
          "output_type": "stream",
          "name": "stdout",
          "text": [
            "Model: \"sequential\"\n",
            "_________________________________________________________________\n",
            " Layer (type)                Output Shape              Param #   \n",
            "=================================================================\n",
            " conv2d (Conv2D)             (None, 30, 30, 32)        896       \n",
            "                                                                 \n",
            " max_pooling2d (MaxPooling2D  (None, 15, 15, 32)       0         \n",
            " )                                                               \n",
            "                                                                 \n",
            " conv2d_1 (Conv2D)           (None, 12, 12, 64)        32832     \n",
            "                                                                 \n",
            " max_pooling2d_1 (MaxPooling  (None, 6, 6, 64)         0         \n",
            " 2D)                                                             \n",
            "                                                                 \n",
            " flatten (Flatten)           (None, 2304)              0         \n",
            "                                                                 \n",
            " dense (Dense)               (None, 256)               590080    \n",
            "                                                                 \n",
            " dense_1 (Dense)             (None, 10)                2570      \n",
            "                                                                 \n",
            "=================================================================\n",
            "Total params: 626,378\n",
            "Trainable params: 626,378\n",
            "Non-trainable params: 0\n",
            "_________________________________________________________________\n"
          ]
        }
      ],
      "source": [
        "# Build the model\n",
        "from keras import models\n",
        "from keras import layers\n",
        "\n",
        "model = models.Sequential()\n",
        "model.add(layers.Conv2D(32, (3,3), activation='relu', input_shape = (32, 32, 3))) #3-by-3 convolution to get from 32x32 to 30x30\n",
        "model.add(layers.MaxPooling2D(2,2))\n",
        "model.add(layers.Conv2D(64, (4,4), activation='relu', input_shape=(15,15,32)))\n",
        "model.add(layers.MaxPooling2D(2,2))\n",
        "model.add(layers.Flatten())\n",
        "model.add(layers.Dense(256, activation='relu'))\n",
        "model.add(layers.Dense(10, activation='softmax'))\n",
        "model.summary()\n"
      ]
    },
    {
      "cell_type": "code",
      "execution_count": 5,
      "metadata": {
        "id": "0y7uMqoV5dAX"
      },
      "outputs": [],
      "source": [
        "# Define model optimizer and loss function\n",
        "\n",
        "model.compile(tf.keras.optimizers.RMSprop(learning_rate=0.0008),loss='categorical_crossentropy',metrics=['accuracy'])"
      ]
    },
    {
      "cell_type": "code",
      "execution_count": 6,
      "metadata": {
        "id": "ZnCY63de5dAX",
        "colab": {
          "base_uri": "https://localhost:8080/"
        },
        "outputId": "be911ee8-e989-412a-be84-643b4da9f21b"
      },
      "outputs": [
        {
          "output_type": "stream",
          "name": "stdout",
          "text": [
            "Epoch 1/50\n",
            "157/157 [==============================] - 13s 13ms/step - loss: 4.3764 - accuracy: 0.2267 - val_loss: 1.9562 - val_accuracy: 0.3164\n",
            "Epoch 2/50\n",
            "157/157 [==============================] - 2s 11ms/step - loss: 1.7716 - accuracy: 0.3929 - val_loss: 1.5633 - val_accuracy: 0.4527\n",
            "Epoch 3/50\n",
            "157/157 [==============================] - 2s 10ms/step - loss: 1.4096 - accuracy: 0.5075 - val_loss: 1.8283 - val_accuracy: 0.4127\n",
            "Epoch 4/50\n",
            "157/157 [==============================] - 2s 10ms/step - loss: 1.1843 - accuracy: 0.5919 - val_loss: 1.6482 - val_accuracy: 0.4434\n",
            "Epoch 5/50\n",
            "157/157 [==============================] - 2s 10ms/step - loss: 0.9783 - accuracy: 0.6634 - val_loss: 1.3716 - val_accuracy: 0.5530\n",
            "Epoch 6/50\n",
            "157/157 [==============================] - 2s 10ms/step - loss: 0.8014 - accuracy: 0.7252 - val_loss: 1.3167 - val_accuracy: 0.5861\n",
            "Epoch 7/50\n",
            "157/157 [==============================] - 2s 10ms/step - loss: 0.6437 - accuracy: 0.7811 - val_loss: 1.5422 - val_accuracy: 0.5726\n",
            "Epoch 8/50\n",
            "157/157 [==============================] - 2s 11ms/step - loss: 0.5101 - accuracy: 0.8243 - val_loss: 1.5000 - val_accuracy: 0.6090\n",
            "Epoch 9/50\n",
            "157/157 [==============================] - 2s 11ms/step - loss: 0.3956 - accuracy: 0.8678 - val_loss: 1.7892 - val_accuracy: 0.5766\n",
            "Epoch 10/50\n",
            "157/157 [==============================] - 2s 11ms/step - loss: 0.3107 - accuracy: 0.8969 - val_loss: 1.9845 - val_accuracy: 0.5911\n",
            "Epoch 11/50\n",
            "157/157 [==============================] - 2s 11ms/step - loss: 0.2401 - accuracy: 0.9211 - val_loss: 2.1061 - val_accuracy: 0.6175\n",
            "Epoch 12/50\n",
            "157/157 [==============================] - 2s 10ms/step - loss: 0.2005 - accuracy: 0.9349 - val_loss: 2.1777 - val_accuracy: 0.6175\n",
            "Epoch 13/50\n",
            "157/157 [==============================] - 2s 10ms/step - loss: 0.1683 - accuracy: 0.9459 - val_loss: 2.1886 - val_accuracy: 0.6234\n",
            "Epoch 14/50\n",
            "157/157 [==============================] - 2s 11ms/step - loss: 0.1403 - accuracy: 0.9566 - val_loss: 2.3756 - val_accuracy: 0.6266\n",
            "Epoch 15/50\n",
            "157/157 [==============================] - 2s 11ms/step - loss: 0.1283 - accuracy: 0.9605 - val_loss: 2.6134 - val_accuracy: 0.6067\n",
            "Epoch 16/50\n",
            "157/157 [==============================] - 2s 10ms/step - loss: 0.1105 - accuracy: 0.9663 - val_loss: 3.2048 - val_accuracy: 0.5987\n",
            "Epoch 17/50\n",
            "157/157 [==============================] - 2s 11ms/step - loss: 0.1065 - accuracy: 0.9678 - val_loss: 2.9656 - val_accuracy: 0.6121\n",
            "Epoch 18/50\n",
            "157/157 [==============================] - 2s 11ms/step - loss: 0.1010 - accuracy: 0.9691 - val_loss: 2.9424 - val_accuracy: 0.6088\n",
            "Epoch 19/50\n",
            "157/157 [==============================] - 2s 11ms/step - loss: 0.0870 - accuracy: 0.9722 - val_loss: 3.2546 - val_accuracy: 0.6038\n",
            "Epoch 20/50\n",
            "157/157 [==============================] - 2s 11ms/step - loss: 0.1000 - accuracy: 0.9719 - val_loss: 3.4852 - val_accuracy: 0.6243\n",
            "Epoch 21/50\n",
            "157/157 [==============================] - 2s 11ms/step - loss: 0.0821 - accuracy: 0.9761 - val_loss: 3.4185 - val_accuracy: 0.6319\n",
            "Epoch 22/50\n",
            "157/157 [==============================] - 2s 11ms/step - loss: 0.0865 - accuracy: 0.9762 - val_loss: 4.0866 - val_accuracy: 0.5848\n",
            "Epoch 23/50\n",
            "157/157 [==============================] - 2s 10ms/step - loss: 0.0698 - accuracy: 0.9794 - val_loss: 3.9880 - val_accuracy: 0.6133\n",
            "Epoch 24/50\n",
            "157/157 [==============================] - 2s 11ms/step - loss: 0.0771 - accuracy: 0.9775 - val_loss: 3.7739 - val_accuracy: 0.6082\n",
            "Epoch 25/50\n",
            "157/157 [==============================] - 2s 10ms/step - loss: 0.0814 - accuracy: 0.9786 - val_loss: 3.9432 - val_accuracy: 0.6235\n",
            "Epoch 26/50\n",
            "157/157 [==============================] - 2s 11ms/step - loss: 0.0759 - accuracy: 0.9788 - val_loss: 4.1415 - val_accuracy: 0.6187\n",
            "Epoch 27/50\n",
            "157/157 [==============================] - 2s 11ms/step - loss: 0.0694 - accuracy: 0.9799 - val_loss: 4.7983 - val_accuracy: 0.5785\n",
            "Epoch 28/50\n",
            "157/157 [==============================] - 2s 11ms/step - loss: 0.0699 - accuracy: 0.9809 - val_loss: 4.8216 - val_accuracy: 0.5956\n",
            "Epoch 29/50\n",
            "157/157 [==============================] - 2s 11ms/step - loss: 0.0728 - accuracy: 0.9815 - val_loss: 4.8840 - val_accuracy: 0.6092\n",
            "Epoch 30/50\n",
            "157/157 [==============================] - 2s 11ms/step - loss: 0.0685 - accuracy: 0.9822 - val_loss: 4.3440 - val_accuracy: 0.6271\n",
            "Epoch 31/50\n",
            "157/157 [==============================] - 2s 12ms/step - loss: 0.0654 - accuracy: 0.9827 - val_loss: 4.5957 - val_accuracy: 0.6168\n",
            "Epoch 32/50\n",
            "157/157 [==============================] - 2s 12ms/step - loss: 0.0693 - accuracy: 0.9832 - val_loss: 4.9080 - val_accuracy: 0.6148\n",
            "Epoch 33/50\n",
            "157/157 [==============================] - 2s 10ms/step - loss: 0.0644 - accuracy: 0.9826 - val_loss: 4.8393 - val_accuracy: 0.6227\n",
            "Epoch 34/50\n",
            "157/157 [==============================] - 2s 10ms/step - loss: 0.0588 - accuracy: 0.9838 - val_loss: 4.8619 - val_accuracy: 0.6028\n",
            "Epoch 35/50\n",
            "157/157 [==============================] - 2s 11ms/step - loss: 0.0567 - accuracy: 0.9845 - val_loss: 5.2595 - val_accuracy: 0.6178\n",
            "Epoch 36/50\n",
            "157/157 [==============================] - 2s 11ms/step - loss: 0.0658 - accuracy: 0.9839 - val_loss: 5.4478 - val_accuracy: 0.5919\n",
            "Epoch 37/50\n",
            "157/157 [==============================] - 2s 11ms/step - loss: 0.0619 - accuracy: 0.9846 - val_loss: 5.4541 - val_accuracy: 0.6101\n",
            "Epoch 38/50\n",
            "157/157 [==============================] - 2s 11ms/step - loss: 0.0615 - accuracy: 0.9844 - val_loss: 6.3574 - val_accuracy: 0.5834\n",
            "Epoch 39/50\n",
            "157/157 [==============================] - 2s 11ms/step - loss: 0.0635 - accuracy: 0.9842 - val_loss: 5.3727 - val_accuracy: 0.6168\n",
            "Epoch 40/50\n",
            "157/157 [==============================] - 2s 11ms/step - loss: 0.0597 - accuracy: 0.9852 - val_loss: 6.2335 - val_accuracy: 0.6260\n",
            "Epoch 41/50\n",
            "157/157 [==============================] - 2s 10ms/step - loss: 0.0594 - accuracy: 0.9858 - val_loss: 6.1410 - val_accuracy: 0.5856\n",
            "Epoch 42/50\n",
            "157/157 [==============================] - 2s 11ms/step - loss: 0.0586 - accuracy: 0.9858 - val_loss: 5.6008 - val_accuracy: 0.6269\n",
            "Epoch 43/50\n",
            "157/157 [==============================] - 2s 11ms/step - loss: 0.0580 - accuracy: 0.9856 - val_loss: 5.4584 - val_accuracy: 0.5994\n",
            "Epoch 44/50\n",
            "157/157 [==============================] - 2s 11ms/step - loss: 0.0630 - accuracy: 0.9850 - val_loss: 5.7491 - val_accuracy: 0.6126\n",
            "Epoch 45/50\n",
            "157/157 [==============================] - 2s 11ms/step - loss: 0.0535 - accuracy: 0.9865 - val_loss: 7.1714 - val_accuracy: 0.6046\n",
            "Epoch 46/50\n",
            "157/157 [==============================] - 2s 11ms/step - loss: 0.0625 - accuracy: 0.9859 - val_loss: 6.4559 - val_accuracy: 0.6110\n",
            "Epoch 47/50\n",
            "157/157 [==============================] - 2s 12ms/step - loss: 0.0561 - accuracy: 0.9864 - val_loss: 7.0557 - val_accuracy: 0.5901\n",
            "Epoch 48/50\n",
            "157/157 [==============================] - 2s 11ms/step - loss: 0.0622 - accuracy: 0.9863 - val_loss: 6.4602 - val_accuracy: 0.6029\n",
            "Epoch 49/50\n",
            "157/157 [==============================] - 2s 11ms/step - loss: 0.0620 - accuracy: 0.9869 - val_loss: 6.6089 - val_accuracy: 0.6239\n",
            "Epoch 50/50\n",
            "157/157 [==============================] - 2s 11ms/step - loss: 0.0560 - accuracy: 0.9868 - val_loss: 7.0286 - val_accuracy: 0.6109\n"
          ]
        }
      ],
      "source": [
        "# Train the model and store model parameters/loss values\n",
        "history = model.fit(np.array(x_tr), np.array(y_tr_vec), batch_size=256, epochs=50, validation_data=(np.array(x_val), np.array(y_val_vec)))\n",
        "\n",
        "bsize = 256 #parameters to use\n",
        "lr = 0.0008\n"
      ]
    },
    {
      "cell_type": "markdown",
      "metadata": {
        "id": "6cNfxNJX5dAX"
      },
      "source": [
        "## 3. Plot the training and validation loss curve versus epochs. (5 points)"
      ]
    },
    {
      "cell_type": "code",
      "execution_count": 7,
      "metadata": {
        "id": "-S7xr-qF5dAY",
        "colab": {
          "base_uri": "https://localhost:8080/",
          "height": 279
        },
        "outputId": "7a4a7b4e-ea52-4dbf-d1ed-1a296867c895"
      },
      "outputs": [
        {
          "output_type": "display_data",
          "data": {
            "text/plain": [
              "<Figure size 432x288 with 1 Axes>"
            ],
            "image/png": "[encoded data removed]"
          },
          "metadata": {
            "needs_background": "light"
          }
        }
      ],
      "source": [
        "# Plot the loss curve\n",
        "import matplotlib.pyplot as plt\n",
        "epochs = range(50)\n",
        "\n",
        "train_loss = history.history['loss']\n",
        "val_loss = history.history['val_loss']\n",
        "plt.plot(epochs, train_loss, 'bo', label='Training Loss')\n",
        "plt.plot(epochs, val_loss, 'r', label='Validation Loss')\n",
        "plt.xlabel('Epochs')\n",
        "plt.ylabel('Loss')\n",
        "plt.legend()\n",
        "plt.show()\n"
      ]
    },
    {
      "cell_type": "markdown",
      "metadata": {
        "id": "v_-y0GdP5dAZ"
      },
      "source": [
        "## 4. Train (again) and evaluate the model (5 points)\n",
        "\n",
        "- To this end, you have found the \"best\" hyper-parameters. \n",
        "- Now, fix the hyper-parameters and train the network on the entire training set (all the 50K training samples)\n",
        "- Evaluate your model on the test set."
      ]
    },
    {
      "cell_type": "markdown",
      "metadata": {
        "id": "BItDP3uj5dAa"
      },
      "source": [
        "### Train the model on the entire training set\n",
        "\n",
        "Why? Previously, you used 40K samples for training; you wasted 10K samples for the sake of hyper-parameter tuning. Now you already know the hyper-parameters, so why not using all the 50K samples for training?"
      ]
    },
    {
      "cell_type": "code",
      "execution_count": 8,
      "metadata": {
        "id": "3ER_tFjJ5dAc"
      },
      "outputs": [],
      "source": [
        "#<Compile your model again (using the same hyper-parameters you tuned above)>\n",
        "model.compile(tf.keras.optimizers.RMSprop(learning_rate=lr),loss='categorical_crossentropy',metrics=['accuracy'])"
      ]
    },
    {
      "cell_type": "code",
      "execution_count": 9,
      "metadata": {
        "id": "gzVRi3cL5dAc",
        "colab": {
          "base_uri": "https://localhost:8080/"
        },
        "outputId": "71352885-8135-4b02-9d0d-20133d1ceb6b"
      },
      "outputs": [
        {
          "output_type": "stream",
          "name": "stdout",
          "text": [
            "Epoch 1/50\n",
            "196/196 [==============================] - 3s 12ms/step - loss: 0.8352 - accuracy: 0.8651\n",
            "Epoch 2/50\n",
            "196/196 [==============================] - 3s 13ms/step - loss: 0.3819 - accuracy: 0.9141\n",
            "Epoch 3/50\n",
            "196/196 [==============================] - 2s 12ms/step - loss: 0.2281 - accuracy: 0.9407\n",
            "Epoch 4/50\n",
            "196/196 [==============================] - 2s 9ms/step - loss: 0.1543 - accuracy: 0.9589\n",
            "Epoch 5/50\n",
            "196/196 [==============================] - 2s 9ms/step - loss: 0.1124 - accuracy: 0.9681\n",
            "Epoch 6/50\n",
            "196/196 [==============================] - 2s 9ms/step - loss: 0.1049 - accuracy: 0.9721\n",
            "Epoch 7/50\n",
            "196/196 [==============================] - 2s 9ms/step - loss: 0.0858 - accuracy: 0.9761\n",
            "Epoch 8/50\n",
            "196/196 [==============================] - 2s 9ms/step - loss: 0.0829 - accuracy: 0.9781\n",
            "Epoch 9/50\n",
            "196/196 [==============================] - 2s 9ms/step - loss: 0.0815 - accuracy: 0.9783\n",
            "Epoch 10/50\n",
            "196/196 [==============================] - 2s 9ms/step - loss: 0.0720 - accuracy: 0.9813\n",
            "Epoch 11/50\n",
            "196/196 [==============================] - 2s 9ms/step - loss: 0.0733 - accuracy: 0.9806\n",
            "Epoch 12/50\n",
            "196/196 [==============================] - 2s 9ms/step - loss: 0.0811 - accuracy: 0.9808\n",
            "Epoch 13/50\n",
            "196/196 [==============================] - 2s 9ms/step - loss: 0.0742 - accuracy: 0.9821\n",
            "Epoch 14/50\n",
            "196/196 [==============================] - 2s 9ms/step - loss: 0.0801 - accuracy: 0.9809\n",
            "Epoch 15/50\n",
            "196/196 [==============================] - 2s 9ms/step - loss: 0.0725 - accuracy: 0.9829\n",
            "Epoch 16/50\n",
            "196/196 [==============================] - 2s 9ms/step - loss: 0.0738 - accuracy: 0.9823\n",
            "Epoch 17/50\n",
            "196/196 [==============================] - 2s 9ms/step - loss: 0.0745 - accuracy: 0.9834\n",
            "Epoch 18/50\n",
            "196/196 [==============================] - 2s 9ms/step - loss: 0.0645 - accuracy: 0.9850\n",
            "Epoch 19/50\n",
            "196/196 [==============================] - 2s 9ms/step - loss: 0.0764 - accuracy: 0.9834\n",
            "Epoch 20/50\n",
            "196/196 [==============================] - 2s 9ms/step - loss: 0.0706 - accuracy: 0.9841\n",
            "Epoch 21/50\n",
            "196/196 [==============================] - 2s 9ms/step - loss: 0.0621 - accuracy: 0.9852\n",
            "Epoch 22/50\n",
            "196/196 [==============================] - 2s 10ms/step - loss: 0.0639 - accuracy: 0.9863\n",
            "Epoch 23/50\n",
            "196/196 [==============================] - 2s 9ms/step - loss: 0.0724 - accuracy: 0.9844\n",
            "Epoch 24/50\n",
            "196/196 [==============================] - 2s 9ms/step - loss: 0.0666 - accuracy: 0.9864\n",
            "Epoch 25/50\n",
            "196/196 [==============================] - 2s 9ms/step - loss: 0.0646 - accuracy: 0.9858\n",
            "Epoch 26/50\n",
            "196/196 [==============================] - 2s 9ms/step - loss: 0.0636 - accuracy: 0.9856\n",
            "Epoch 27/50\n",
            "196/196 [==============================] - 2s 9ms/step - loss: 0.0688 - accuracy: 0.9854\n",
            "Epoch 28/50\n",
            "196/196 [==============================] - 2s 9ms/step - loss: 0.0613 - accuracy: 0.9868\n",
            "Epoch 29/50\n",
            "196/196 [==============================] - 2s 9ms/step - loss: 0.0656 - accuracy: 0.9870\n",
            "Epoch 30/50\n",
            "196/196 [==============================] - 2s 9ms/step - loss: 0.0610 - accuracy: 0.9866\n",
            "Epoch 31/50\n",
            "196/196 [==============================] - 2s 9ms/step - loss: 0.0703 - accuracy: 0.9862\n",
            "Epoch 32/50\n",
            "196/196 [==============================] - 2s 9ms/step - loss: 0.0647 - accuracy: 0.9877\n",
            "Epoch 33/50\n",
            "196/196 [==============================] - 2s 9ms/step - loss: 0.0665 - accuracy: 0.9873\n",
            "Epoch 34/50\n",
            "196/196 [==============================] - 2s 9ms/step - loss: 0.0639 - accuracy: 0.9871\n",
            "Epoch 35/50\n",
            "196/196 [==============================] - 2s 9ms/step - loss: 0.0680 - accuracy: 0.9873\n",
            "Epoch 36/50\n",
            "196/196 [==============================] - 2s 9ms/step - loss: 0.0645 - accuracy: 0.9877\n",
            "Epoch 37/50\n",
            "196/196 [==============================] - 2s 9ms/step - loss: 0.0647 - accuracy: 0.9880\n",
            "Epoch 38/50\n",
            "196/196 [==============================] - 2s 9ms/step - loss: 0.0642 - accuracy: 0.9881\n",
            "Epoch 39/50\n",
            "196/196 [==============================] - 2s 9ms/step - loss: 0.0679 - accuracy: 0.9877\n",
            "Epoch 40/50\n",
            "196/196 [==============================] - 2s 9ms/step - loss: 0.0684 - accuracy: 0.9877\n",
            "Epoch 41/50\n",
            "196/196 [==============================] - 2s 9ms/step - loss: 0.0637 - accuracy: 0.9884\n",
            "Epoch 42/50\n",
            "196/196 [==============================] - 2s 9ms/step - loss: 0.0663 - accuracy: 0.9888\n",
            "Epoch 43/50\n",
            "196/196 [==============================] - 2s 9ms/step - loss: 0.0698 - accuracy: 0.9885\n",
            "Epoch 44/50\n",
            "196/196 [==============================] - 2s 9ms/step - loss: 0.0643 - accuracy: 0.9884\n",
            "Epoch 45/50\n",
            "196/196 [==============================] - 2s 9ms/step - loss: 0.0569 - accuracy: 0.9891\n",
            "Epoch 46/50\n",
            "196/196 [==============================] - 2s 9ms/step - loss: 0.0634 - accuracy: 0.9892\n",
            "Epoch 47/50\n",
            "196/196 [==============================] - 2s 9ms/step - loss: 0.0645 - accuracy: 0.9890\n",
            "Epoch 48/50\n",
            "196/196 [==============================] - 2s 9ms/step - loss: 0.0688 - accuracy: 0.9886\n",
            "Epoch 49/50\n",
            "196/196 [==============================] - 2s 9ms/step - loss: 0.0601 - accuracy: 0.9899\n",
            "Epoch 50/50\n",
            "196/196 [==============================] - 2s 9ms/step - loss: 0.0708 - accuracy: 0.9884\n"
          ]
        }
      ],
      "source": [
        "#<Train your model on the entire training set (50K samples)>\n",
        "history = model.fit(np.array(x_train), np.array(y_train_vec), batch_size=bsize, epochs=50)"
      ]
    },
    {
      "cell_type": "markdown",
      "metadata": {
        "id": "W4bc4_6h5dAc"
      },
      "source": [
        "## 5. Evaluate the model on the test set (5 points)\n",
        "\n",
        "Do NOT used the test set until now. Make sure that your model parameters and hyper-parameters are independent of the test set."
      ]
    },
    {
      "cell_type": "code",
      "execution_count": 10,
      "metadata": {
        "id": "UV0sM8dO5dAc",
        "colab": {
          "base_uri": "https://localhost:8080/"
        },
        "outputId": "78b25487-c413-49b7-cb22-ac63059bc5c6"
      },
      "outputs": [
        {
          "output_type": "stream",
          "name": "stdout",
          "text": [
            "10000/10000 [==============================] - 23s 2ms/step - loss: 10.1678 - accuracy: 0.6497\n",
            "Test accuracy = 0.6496999859809875\n"
          ]
        }
      ],
      "source": [
        "# Evaluate your model performance (testing accuracy) on testing data.\n",
        "loss_and_acc = model.evaluate(np.array(x_test), np.array(y_test_vec), batch_size=1)\n",
        "\n",
        "print('Test accuracy = ' + str(loss_and_acc[1]))"
      ]
    },
    {
      "cell_type": "markdown",
      "metadata": {
        "id": "ObH5b0t45dAd"
      },
      "source": [
        "## 6. Building model with new structure (25 points)\n",
        "- In this section, you can build your model with adding new layers (e.g, BN layer or dropout layer, ...).\n",
        "- If you want to regularize a ```Conv/Dense layer```, you should place a ```Dropout layer``` before the ```Conv/Dense layer```.\n",
        "- You can try to compare their loss curve and testing accuracy and analyze your findings.\n",
        "- You need to try at lease two different model structures."
      ]
    },
    {
      "cell_type": "code",
      "execution_count": 11,
      "metadata": {
        "id": "VNKWcz1O5dAd",
        "colab": {
          "base_uri": "https://localhost:8080/",
          "height": 1000
        },
        "outputId": "00e9ae52-87b8-4ff4-ec1a-f0757bbd393a"
      },
      "outputs": [
        {
          "output_type": "stream",
          "name": "stdout",
          "text": [
            "Model: \"sequential_1\"\n",
            "_________________________________________________________________\n",
            " Layer (type)                Output Shape              Param #   \n",
            "=================================================================\n",
            " conv2d_2 (Conv2D)           (None, 30, 30, 32)        896       \n",
            "                                                                 \n",
            " max_pooling2d_2 (MaxPooling  (None, 15, 15, 32)       0         \n",
            " 2D)                                                             \n",
            "                                                                 \n",
            " conv2d_3 (Conv2D)           (None, 12, 12, 64)        32832     \n",
            "                                                                 \n",
            " max_pooling2d_3 (MaxPooling  (None, 6, 6, 64)         0         \n",
            " 2D)                                                             \n",
            "                                                                 \n",
            " flatten_1 (Flatten)         (None, 2304)              0         \n",
            "                                                                 \n",
            " dropout (Dropout)           (None, 2304)              0         \n",
            "                                                                 \n",
            " dense_2 (Dense)             (None, 256)               590080    \n",
            "                                                                 \n",
            " dense_3 (Dense)             (None, 10)                2570      \n",
            "                                                                 \n",
            "=================================================================\n",
            "Total params: 626,378\n",
            "Trainable params: 626,378\n",
            "Non-trainable params: 0\n",
            "_________________________________________________________________\n",
            "Epoch 1/50\n",
            "196/196 [==============================] - 3s 10ms/step - loss: 3.8138 - accuracy: 0.1319\n",
            "Epoch 2/50\n",
            "196/196 [==============================] - 2s 9ms/step - loss: 2.2174 - accuracy: 0.2078\n",
            "Epoch 3/50\n",
            "196/196 [==============================] - 2s 9ms/step - loss: 2.0675 - accuracy: 0.2810\n",
            "Epoch 4/50\n",
            "196/196 [==============================] - 2s 9ms/step - loss: 1.8518 - accuracy: 0.3415\n",
            "Epoch 5/50\n",
            "196/196 [==============================] - 2s 9ms/step - loss: 1.6290 - accuracy: 0.4203\n",
            "Epoch 6/50\n",
            "196/196 [==============================] - 2s 9ms/step - loss: 1.4687 - accuracy: 0.4854\n",
            "Epoch 7/50\n",
            "196/196 [==============================] - 2s 9ms/step - loss: 1.3552 - accuracy: 0.5307\n",
            "Epoch 8/50\n",
            "196/196 [==============================] - 2s 9ms/step - loss: 1.2583 - accuracy: 0.5650\n",
            "Epoch 9/50\n",
            "196/196 [==============================] - 2s 9ms/step - loss: 1.1977 - accuracy: 0.5873\n",
            "Epoch 10/50\n",
            "196/196 [==============================] - 2s 9ms/step - loss: 1.1277 - accuracy: 0.6105\n",
            "Epoch 11/50\n",
            "196/196 [==============================] - 2s 9ms/step - loss: 1.0848 - accuracy: 0.6281\n",
            "Epoch 12/50\n",
            "196/196 [==============================] - 2s 9ms/step - loss: 1.0374 - accuracy: 0.6433\n",
            "Epoch 13/50\n",
            "196/196 [==============================] - 2s 9ms/step - loss: 0.9991 - accuracy: 0.6565\n",
            "Epoch 14/50\n",
            "196/196 [==============================] - 2s 9ms/step - loss: 0.9568 - accuracy: 0.6707\n",
            "Epoch 15/50\n",
            "196/196 [==============================] - 2s 9ms/step - loss: 0.9253 - accuracy: 0.6824\n",
            "Epoch 16/50\n",
            "196/196 [==============================] - 2s 9ms/step - loss: 0.8928 - accuracy: 0.6962\n",
            "Epoch 17/50\n",
            "196/196 [==============================] - 2s 9ms/step - loss: 0.8583 - accuracy: 0.7047\n",
            "Epoch 18/50\n",
            "196/196 [==============================] - 2s 9ms/step - loss: 0.8362 - accuracy: 0.7162\n",
            "Epoch 19/50\n",
            "196/196 [==============================] - 2s 9ms/step - loss: 0.8148 - accuracy: 0.7208\n",
            "Epoch 20/50\n",
            "196/196 [==============================] - 2s 9ms/step - loss: 0.8029 - accuracy: 0.7301\n",
            "Epoch 21/50\n",
            "196/196 [==============================] - 2s 9ms/step - loss: 0.7721 - accuracy: 0.7377\n",
            "Epoch 22/50\n",
            "196/196 [==============================] - 2s 9ms/step - loss: 0.7551 - accuracy: 0.7423\n",
            "Epoch 23/50\n",
            "196/196 [==============================] - 2s 9ms/step - loss: 0.7381 - accuracy: 0.7499\n",
            "Epoch 24/50\n",
            "196/196 [==============================] - 2s 9ms/step - loss: 0.7151 - accuracy: 0.7579\n",
            "Epoch 25/50\n",
            "196/196 [==============================] - 2s 9ms/step - loss: 0.6991 - accuracy: 0.7633\n",
            "Epoch 26/50\n",
            "196/196 [==============================] - 2s 9ms/step - loss: 0.6860 - accuracy: 0.7677\n",
            "Epoch 27/50\n",
            "196/196 [==============================] - 2s 9ms/step - loss: 0.6588 - accuracy: 0.7775\n",
            "Epoch 28/50\n",
            "196/196 [==============================] - 2s 9ms/step - loss: 0.6606 - accuracy: 0.7770\n",
            "Epoch 29/50\n",
            "196/196 [==============================] - 2s 9ms/step - loss: 0.6421 - accuracy: 0.7825\n",
            "Epoch 30/50\n",
            "196/196 [==============================] - 2s 9ms/step - loss: 0.6248 - accuracy: 0.7884\n",
            "Epoch 31/50\n",
            "196/196 [==============================] - 2s 9ms/step - loss: 0.6087 - accuracy: 0.7914\n",
            "Epoch 32/50\n",
            "196/196 [==============================] - 2s 9ms/step - loss: 0.6061 - accuracy: 0.7957\n",
            "Epoch 33/50\n",
            "196/196 [==============================] - 2s 9ms/step - loss: 0.5837 - accuracy: 0.8036\n",
            "Epoch 34/50\n",
            "196/196 [==============================] - 2s 9ms/step - loss: 0.5837 - accuracy: 0.8047\n",
            "Epoch 35/50\n",
            "196/196 [==============================] - 2s 9ms/step - loss: 0.5766 - accuracy: 0.8062\n",
            "Epoch 36/50\n",
            "196/196 [==============================] - 2s 9ms/step - loss: 0.5673 - accuracy: 0.8100\n",
            "Epoch 37/50\n",
            "196/196 [==============================] - 2s 9ms/step - loss: 0.5620 - accuracy: 0.8108\n",
            "Epoch 38/50\n",
            "196/196 [==============================] - 2s 9ms/step - loss: 0.5527 - accuracy: 0.8137\n",
            "Epoch 39/50\n",
            "196/196 [==============================] - 2s 9ms/step - loss: 0.5404 - accuracy: 0.8179\n",
            "Epoch 40/50\n",
            "196/196 [==============================] - 2s 9ms/step - loss: 0.5338 - accuracy: 0.8234\n",
            "Epoch 41/50\n",
            "196/196 [==============================] - 2s 9ms/step - loss: 0.5312 - accuracy: 0.8223\n",
            "Epoch 42/50\n",
            "196/196 [==============================] - 2s 9ms/step - loss: 0.5208 - accuracy: 0.8259\n",
            "Epoch 43/50\n",
            "196/196 [==============================] - 2s 9ms/step - loss: 0.5168 - accuracy: 0.8274\n",
            "Epoch 44/50\n",
            "196/196 [==============================] - 2s 9ms/step - loss: 0.5073 - accuracy: 0.8293\n",
            "Epoch 45/50\n",
            "196/196 [==============================] - 2s 10ms/step - loss: 0.5039 - accuracy: 0.8310\n",
            "Epoch 46/50\n",
            "196/196 [==============================] - 2s 9ms/step - loss: 0.4923 - accuracy: 0.8348\n",
            "Epoch 47/50\n",
            "196/196 [==============================] - 2s 9ms/step - loss: 0.4927 - accuracy: 0.8361\n",
            "Epoch 48/50\n",
            "196/196 [==============================] - 2s 9ms/step - loss: 0.4816 - accuracy: 0.8399\n",
            "Epoch 49/50\n",
            "196/196 [==============================] - 2s 9ms/step - loss: 0.4801 - accuracy: 0.8415\n",
            "Epoch 50/50\n",
            "196/196 [==============================] - 2s 9ms/step - loss: 0.4751 - accuracy: 0.8415\n"
          ]
        },
        {
          "output_type": "display_data",
          "data": {
            "text/plain": [
              "<Figure size 432x288 with 1 Axes>"
            ],
            "image/png": "[encoded data removed]"
          },
          "metadata": {
            "needs_background": "light"
          }
        },
        {
          "output_type": "stream",
          "name": "stdout",
          "text": [
            "10000/10000 [==============================] - 22s 2ms/step - loss: 1.0348 - accuracy: 0.6765\n",
            "Test accuracy = 0.6765000224113464\n"
          ]
        }
      ],
      "source": [
        "#New model version 1: add a dropout layer\n",
        "import matplotlib.pyplot as plt\n",
        "model = models.Sequential()\n",
        "model.add(layers.Conv2D(32, (3,3), activation='relu', input_shape = (32, 32, 3))) #3-by-3 convolution to get from 32x32 to 30x30\n",
        "model.add(layers.MaxPooling2D(2,2))\n",
        "model.add(layers.Conv2D(64, (4,4), activation='relu', input_shape=(15,15,32)))\n",
        "model.add(layers.MaxPooling2D(2,2))\n",
        "model.add(layers.Flatten())\n",
        "model.add(layers.Dropout(0.5))\n",
        "model.add(layers.Dense(256, activation='relu'))\n",
        "model.add(layers.Dense(10, activation='softmax'))\n",
        "model.summary()\n",
        "\n",
        "model.compile(tf.keras.optimizers.RMSprop(learning_rate=0.0008),loss='categorical_crossentropy',metrics=['accuracy'])\n",
        "history = model.fit(np.array(x_train), np.array(y_train_vec), batch_size=256, epochs=50)\n",
        "epochs = range(50)\n",
        "\n",
        "train_loss = history.history['loss']\n",
        "plt.plot(epochs, train_loss, 'bo', label='Training Loss')\n",
        "plt.xlabel('Epochs')\n",
        "plt.ylabel('Loss')\n",
        "plt.legend()\n",
        "plt.show()\n",
        "loss_and_acc = model.evaluate(np.array(x_test), np.array(y_test_vec), batch_size=1)\n",
        "\n",
        "print('Test accuracy = ' + str(loss_and_acc[1]))\n",
        "\n",
        "\n",
        "#As we can see, adding one dropout layer increases the testing accuracy to around 70%\n"
      ]
    },
    {
      "cell_type": "code",
      "source": [
        "#New model version 2: add a batch normalization layer at the start\n",
        "import matplotlib.pyplot as plt\n",
        "model2 = models.Sequential()\n",
        "model2.add(layers.Conv2D(32, (3,3), input_shape = (32, 32, 3))) #3-by-3 convolution to get from 32x32 to 30x30\n",
        "model2.add(layers.BatchNormalization())\n",
        "model.add(layers.Activation('relu'))\n",
        "model2.add(layers.MaxPooling2D(2,2))\n",
        "model2.add(layers.Conv2D(64, (4,4), activation='relu', input_shape=(15,15,32)))\n",
        "model2.add(layers.MaxPooling2D(2,2))\n",
        "model2.add(layers.Flatten())\n",
        "model2.add(layers.Dropout(0.5))\n",
        "model2.add(layers.Dense(256, activation='relu'))\n",
        "model2.add(layers.Dense(10, activation='softmax'))\n",
        "model2.summary()\n",
        "\n",
        "model2.compile(tf.keras.optimizers.RMSprop(learning_rate=0.0008),loss='categorical_crossentropy',metrics=['accuracy'])\n",
        "history = model2.fit(np.array(x_train), np.array(y_train_vec), batch_size=256, epochs=50)\n",
        "epochs = range(50)\n",
        "\n",
        "train_loss = history.history['loss']\n",
        "plt.plot(epochs, train_loss, 'bo', label='Training Loss')\n",
        "plt.xlabel('Epochs')\n",
        "plt.ylabel('Loss')\n",
        "plt.legend()\n",
        "plt.show()\n",
        "loss_and_acc = model2.evaluate(np.array(x_test), np.array(y_test_vec), batch_size=1)\n",
        "\n",
        "print('Test accuracy = ' + str(loss_and_acc[1]))\n",
        "\n",
        "\n",
        "#Adding the BN layer gives us another increase in testing accuracy"
      ],
      "metadata": {
        "id": "LcrtC9alAZ7N",
        "colab": {
          "base_uri": "https://localhost:8080/",
          "height": 1000
        },
        "outputId": "30a2169e-80c4-450c-b073-f6f6fd66909c"
      },
      "execution_count": 12,
      "outputs": [
        {
          "output_type": "stream",
          "name": "stdout",
          "text": [
            "Model: \"sequential_2\"\n",
            "_________________________________________________________________\n",
            " Layer (type)                Output Shape              Param #   \n",
            "=================================================================\n",
            " conv2d_4 (Conv2D)           (None, 30, 30, 32)        896       \n",
            "                                                                 \n",
            " batch_normalization (BatchN  (None, 30, 30, 32)       128       \n",
            " ormalization)                                                   \n",
            "                                                                 \n",
            " max_pooling2d_4 (MaxPooling  (None, 15, 15, 32)       0         \n",
            " 2D)                                                             \n",
            "                                                                 \n",
            " conv2d_5 (Conv2D)           (None, 12, 12, 64)        32832     \n",
            "                                                                 \n",
            " max_pooling2d_5 (MaxPooling  (None, 6, 6, 64)         0         \n",
            " 2D)                                                             \n",
            "                                                                 \n",
            " flatten_2 (Flatten)         (None, 2304)              0         \n",
            "                                                                 \n",
            " dropout_1 (Dropout)         (None, 2304)              0         \n",
            "                                                                 \n",
            " dense_4 (Dense)             (None, 256)               590080    \n",
            "                                                                 \n",
            " dense_5 (Dense)             (None, 10)                2570      \n",
            "                                                                 \n",
            "=================================================================\n",
            "Total params: 626,506\n",
            "Trainable params: 626,442\n",
            "Non-trainable params: 64\n",
            "_________________________________________________________________\n",
            "Epoch 1/50\n",
            "196/196 [==============================] - 3s 12ms/step - loss: 1.6345 - accuracy: 0.4290\n",
            "Epoch 2/50\n",
            "196/196 [==============================] - 2s 10ms/step - loss: 1.2463 - accuracy: 0.5665\n",
            "Epoch 3/50\n",
            "196/196 [==============================] - 2s 10ms/step - loss: 1.0922 - accuracy: 0.6225\n",
            "Epoch 4/50\n",
            "196/196 [==============================] - 2s 10ms/step - loss: 0.9878 - accuracy: 0.6590\n",
            "Epoch 5/50\n",
            "196/196 [==============================] - 2s 10ms/step - loss: 0.9134 - accuracy: 0.6839\n",
            "Epoch 6/50\n",
            "196/196 [==============================] - 2s 10ms/step - loss: 0.8443 - accuracy: 0.7079\n",
            "Epoch 7/50\n",
            "196/196 [==============================] - 2s 10ms/step - loss: 0.7856 - accuracy: 0.7273\n",
            "Epoch 8/50\n",
            "196/196 [==============================] - 2s 10ms/step - loss: 0.7312 - accuracy: 0.7483\n",
            "Epoch 9/50\n",
            "196/196 [==============================] - 2s 10ms/step - loss: 0.6907 - accuracy: 0.7623\n",
            "Epoch 10/50\n",
            "196/196 [==============================] - 2s 10ms/step - loss: 0.6538 - accuracy: 0.7735\n",
            "Epoch 11/50\n",
            "196/196 [==============================] - 2s 10ms/step - loss: 0.6158 - accuracy: 0.7872\n",
            "Epoch 12/50\n",
            "196/196 [==============================] - 2s 10ms/step - loss: 0.5859 - accuracy: 0.7983\n",
            "Epoch 13/50\n",
            "196/196 [==============================] - 2s 10ms/step - loss: 0.5587 - accuracy: 0.8066\n",
            "Epoch 14/50\n",
            "196/196 [==============================] - 2s 10ms/step - loss: 0.5297 - accuracy: 0.8163\n",
            "Epoch 15/50\n",
            "196/196 [==============================] - 2s 10ms/step - loss: 0.5169 - accuracy: 0.8221\n",
            "Epoch 16/50\n",
            "196/196 [==============================] - 2s 10ms/step - loss: 0.4892 - accuracy: 0.8303\n",
            "Epoch 17/50\n",
            "196/196 [==============================] - 2s 10ms/step - loss: 0.4644 - accuracy: 0.8396\n",
            "Epoch 18/50\n",
            "196/196 [==============================] - 2s 10ms/step - loss: 0.4490 - accuracy: 0.8451\n",
            "Epoch 19/50\n",
            "196/196 [==============================] - 2s 10ms/step - loss: 0.4348 - accuracy: 0.8490\n",
            "Epoch 20/50\n",
            "196/196 [==============================] - 2s 10ms/step - loss: 0.4172 - accuracy: 0.8544\n",
            "Epoch 21/50\n",
            "196/196 [==============================] - 2s 10ms/step - loss: 0.4010 - accuracy: 0.8593\n",
            "Epoch 22/50\n",
            "196/196 [==============================] - 2s 10ms/step - loss: 0.3871 - accuracy: 0.8645\n",
            "Epoch 23/50\n",
            "196/196 [==============================] - 2s 10ms/step - loss: 0.3789 - accuracy: 0.8678\n",
            "Epoch 24/50\n",
            "196/196 [==============================] - 2s 10ms/step - loss: 0.3671 - accuracy: 0.8724\n",
            "Epoch 25/50\n",
            "196/196 [==============================] - 2s 10ms/step - loss: 0.3574 - accuracy: 0.8751\n",
            "Epoch 26/50\n",
            "196/196 [==============================] - 2s 10ms/step - loss: 0.3485 - accuracy: 0.8795\n",
            "Epoch 27/50\n",
            "196/196 [==============================] - 2s 10ms/step - loss: 0.3416 - accuracy: 0.8821\n",
            "Epoch 28/50\n",
            "196/196 [==============================] - 2s 10ms/step - loss: 0.3312 - accuracy: 0.8856\n",
            "Epoch 29/50\n",
            "196/196 [==============================] - 2s 10ms/step - loss: 0.3198 - accuracy: 0.8887\n",
            "Epoch 30/50\n",
            "196/196 [==============================] - 2s 10ms/step - loss: 0.3133 - accuracy: 0.8908\n",
            "Epoch 31/50\n",
            "196/196 [==============================] - 2s 10ms/step - loss: 0.3065 - accuracy: 0.8937\n",
            "Epoch 32/50\n",
            "196/196 [==============================] - 2s 10ms/step - loss: 0.2977 - accuracy: 0.8982\n",
            "Epoch 33/50\n",
            "196/196 [==============================] - 2s 10ms/step - loss: 0.2933 - accuracy: 0.8990\n",
            "Epoch 34/50\n",
            "196/196 [==============================] - 2s 10ms/step - loss: 0.2862 - accuracy: 0.9005\n",
            "Epoch 35/50\n",
            "196/196 [==============================] - 2s 10ms/step - loss: 0.2809 - accuracy: 0.9022\n",
            "Epoch 36/50\n",
            "196/196 [==============================] - 2s 10ms/step - loss: 0.2772 - accuracy: 0.9043\n",
            "Epoch 37/50\n",
            "196/196 [==============================] - 2s 10ms/step - loss: 0.2673 - accuracy: 0.9079\n",
            "Epoch 38/50\n",
            "196/196 [==============================] - 2s 10ms/step - loss: 0.2746 - accuracy: 0.9052\n",
            "Epoch 39/50\n",
            "196/196 [==============================] - 2s 10ms/step - loss: 0.2655 - accuracy: 0.9084\n",
            "Epoch 40/50\n",
            "196/196 [==============================] - 2s 10ms/step - loss: 0.2595 - accuracy: 0.9111\n",
            "Epoch 41/50\n",
            "196/196 [==============================] - 2s 10ms/step - loss: 0.2523 - accuracy: 0.9119\n",
            "Epoch 42/50\n",
            "196/196 [==============================] - 2s 10ms/step - loss: 0.2532 - accuracy: 0.9126\n",
            "Epoch 43/50\n",
            "196/196 [==============================] - 2s 10ms/step - loss: 0.2461 - accuracy: 0.9155\n",
            "Epoch 44/50\n",
            "196/196 [==============================] - 2s 10ms/step - loss: 0.2435 - accuracy: 0.9166\n",
            "Epoch 45/50\n",
            "196/196 [==============================] - 2s 10ms/step - loss: 0.2387 - accuracy: 0.9176\n",
            "Epoch 46/50\n",
            "196/196 [==============================] - 2s 10ms/step - loss: 0.2385 - accuracy: 0.9188\n",
            "Epoch 47/50\n",
            "196/196 [==============================] - 2s 10ms/step - loss: 0.2330 - accuracy: 0.9206\n",
            "Epoch 48/50\n",
            "196/196 [==============================] - 2s 10ms/step - loss: 0.2311 - accuracy: 0.9220\n",
            "Epoch 49/50\n",
            "196/196 [==============================] - 2s 10ms/step - loss: 0.2314 - accuracy: 0.9193\n",
            "Epoch 50/50\n",
            "196/196 [==============================] - 2s 10ms/step - loss: 0.2268 - accuracy: 0.9240\n"
          ]
        },
        {
          "output_type": "display_data",
          "data": {
            "text/plain": [
              "<Figure size 432x288 with 1 Axes>"
            ],
            "image/png": "[encoded data removed]"
          },
          "metadata": {
            "needs_background": "light"
          }
        },
        {
          "output_type": "stream",
          "name": "stdout",
          "text": [
            "10000/10000 [==============================] - 23s 2ms/step - loss: 1.2535 - accuracy: 0.6910\n",
            "Test accuracy = 0.6909999847412109\n"
          ]
        }
      ]
    }
  ],
  "metadata": {
    "kernelspec": {
      "display_name": "Python 3",
      "language": "python",
      "name": "python3"
    },
    "language_info": {
      "codemirror_mode": {
        "name": "ipython",
        "version": 3
      },
      "file_extension": ".py",
      "mimetype": "text/x-python",
      "name": "python",
      "nbconvert_exporter": "python",
      "pygments_lexer": "ipython3",
      "version": "3.10.3"
    },
    "colab": {
      "name": "Assignment 2",
      "provenance": [],
      "collapsed_sections": []
    },
    "accelerator": "GPU"
  },
  "nbformat": 4,
  "nbformat_minor": 0
}